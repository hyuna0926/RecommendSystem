{
  "nbformat": 4,
  "nbformat_minor": 0,
  "metadata": {
    "colab": {
      "provenance": [],
      "toc_visible": true,
      "mount_file_id": "1GADcb8fBKSqRHQ_uiMaV3m7h-ALHnRRV",
      "authorship_tag": "ABX9TyNj94oRuWHBjLvjFvYeYk8m",
      "include_colab_link": true
    },
    "kernelspec": {
      "name": "python3",
      "display_name": "Python 3"
    },
    "language_info": {
      "name": "python"
    }
  },
  "cells": [
    {
      "cell_type": "markdown",
      "metadata": {
        "id": "view-in-github",
        "colab_type": "text"
      },
      "source": [
        "<a href=\"https://colab.research.google.com/github/hyuna0926/RecommendSystem/blob/main/test/baseline.ipynb\" target=\"_parent\"><img src=\"https://colab.research.google.com/assets/colab-badge.svg\" alt=\"Open In Colab\"/></a>"
      ]
    },
    {
      "cell_type": "markdown",
      "source": [
        "# 필요 라이브러리 및 데이터 로드"
      ],
      "metadata": {
        "id": "ka_dgaEZU5pc"
      }
    },
    {
      "cell_type": "code",
      "execution_count": null,
      "metadata": {
        "id": "_urPPiWvmOXO"
      },
      "outputs": [],
      "source": [
        "import pandas as pd\n",
        "import numpy as np\n",
        "import warnings\n",
        "# 경고 제거\n",
        "warnings.filterwarnings(\"ignore\")\n",
        "\n",
        "from sklearn.model_selection import train_test_split\n",
        "from scipy import sparse\n",
        "from scipy.sparse import csr_matrix\n",
        "from tqdm.notebook import tqdm\n",
        "import numpy as np\n",
        "\n",
        "# from implicit.als import AlternatingLeastSquares as ALS\n",
        "# import implicit\n",
        "import random\n",
        "import os"
      ]
    },
    {
      "cell_type": "code",
      "source": [
        "product=pd.read_parquet('/content/drive/MyDrive/CP2_Phase2/product.parquet')"
      ],
      "metadata": {
        "id": "Ep0tq9j4oOX1"
      },
      "execution_count": null,
      "outputs": []
    },
    {
      "cell_type": "code",
      "source": [
        "df= pd.read_parquet('/content/drive/MyDrive/CP2_Phase2/cart_purchase.parquet')\n",
        "df.head()"
      ],
      "metadata": {
        "colab": {
          "base_uri": "https://localhost:8080/",
          "height": 206
        },
        "id": "a_M6Lac7nQJ2",
        "outputId": "ecfe70b1-c33e-431c-e139-b6ca98719848"
      },
      "execution_count": null,
      "outputs": [
        {
          "output_type": "execute_result",
          "data": {
            "text/plain": [
              "            created_at  customer_id  product_id  p_idx     event  c_idx\n",
              "0  2018-07-29 15:22:01         5868       54728  29317  purchase   3039\n",
              "1  2021-01-15 19:52:40        82831       54728  29317  purchase  41968\n",
              "2  2016-10-20 10:16:35        82831       34982   8394  purchase  41968\n",
              "3  2018-08-26 14:09:52        82831        8627   9052  purchase  41968\n",
              "4  2018-03-17 15:08:08        82831       46703  23994  purchase  41968"
            ],
            "text/html": [
              "\n",
              "  <div id=\"df-f2bbf2e0-bee6-4be8-ba89-a053dbc6da6e\">\n",
              "    <div class=\"colab-df-container\">\n",
              "      <div>\n",
              "<style scoped>\n",
              "    .dataframe tbody tr th:only-of-type {\n",
              "        vertical-align: middle;\n",
              "    }\n",
              "\n",
              "    .dataframe tbody tr th {\n",
              "        vertical-align: top;\n",
              "    }\n",
              "\n",
              "    .dataframe thead th {\n",
              "        text-align: right;\n",
              "    }\n",
              "</style>\n",
              "<table border=\"1\" class=\"dataframe\">\n",
              "  <thead>\n",
              "    <tr style=\"text-align: right;\">\n",
              "      <th></th>\n",
              "      <th>created_at</th>\n",
              "      <th>customer_id</th>\n",
              "      <th>product_id</th>\n",
              "      <th>p_idx</th>\n",
              "      <th>event</th>\n",
              "      <th>c_idx</th>\n",
              "    </tr>\n",
              "  </thead>\n",
              "  <tbody>\n",
              "    <tr>\n",
              "      <th>0</th>\n",
              "      <td>2018-07-29 15:22:01</td>\n",
              "      <td>5868</td>\n",
              "      <td>54728</td>\n",
              "      <td>29317</td>\n",
              "      <td>purchase</td>\n",
              "      <td>3039</td>\n",
              "    </tr>\n",
              "    <tr>\n",
              "      <th>1</th>\n",
              "      <td>2021-01-15 19:52:40</td>\n",
              "      <td>82831</td>\n",
              "      <td>54728</td>\n",
              "      <td>29317</td>\n",
              "      <td>purchase</td>\n",
              "      <td>41968</td>\n",
              "    </tr>\n",
              "    <tr>\n",
              "      <th>2</th>\n",
              "      <td>2016-10-20 10:16:35</td>\n",
              "      <td>82831</td>\n",
              "      <td>34982</td>\n",
              "      <td>8394</td>\n",
              "      <td>purchase</td>\n",
              "      <td>41968</td>\n",
              "    </tr>\n",
              "    <tr>\n",
              "      <th>3</th>\n",
              "      <td>2018-08-26 14:09:52</td>\n",
              "      <td>82831</td>\n",
              "      <td>8627</td>\n",
              "      <td>9052</td>\n",
              "      <td>purchase</td>\n",
              "      <td>41968</td>\n",
              "    </tr>\n",
              "    <tr>\n",
              "      <th>4</th>\n",
              "      <td>2018-03-17 15:08:08</td>\n",
              "      <td>82831</td>\n",
              "      <td>46703</td>\n",
              "      <td>23994</td>\n",
              "      <td>purchase</td>\n",
              "      <td>41968</td>\n",
              "    </tr>\n",
              "  </tbody>\n",
              "</table>\n",
              "</div>\n",
              "      <button class=\"colab-df-convert\" onclick=\"convertToInteractive('df-f2bbf2e0-bee6-4be8-ba89-a053dbc6da6e')\"\n",
              "              title=\"Convert this dataframe to an interactive table.\"\n",
              "              style=\"display:none;\">\n",
              "        \n",
              "  <svg xmlns=\"http://www.w3.org/2000/svg\" height=\"24px\"viewBox=\"0 0 24 24\"\n",
              "       width=\"24px\">\n",
              "    <path d=\"M0 0h24v24H0V0z\" fill=\"none\"/>\n",
              "    <path d=\"M18.56 5.44l.94 2.06.94-2.06 2.06-.94-2.06-.94-.94-2.06-.94 2.06-2.06.94zm-11 1L8.5 8.5l.94-2.06 2.06-.94-2.06-.94L8.5 2.5l-.94 2.06-2.06.94zm10 10l.94 2.06.94-2.06 2.06-.94-2.06-.94-.94-2.06-.94 2.06-2.06.94z\"/><path d=\"M17.41 7.96l-1.37-1.37c-.4-.4-.92-.59-1.43-.59-.52 0-1.04.2-1.43.59L10.3 9.45l-7.72 7.72c-.78.78-.78 2.05 0 2.83L4 21.41c.39.39.9.59 1.41.59.51 0 1.02-.2 1.41-.59l7.78-7.78 2.81-2.81c.8-.78.8-2.07 0-2.86zM5.41 20L4 18.59l7.72-7.72 1.47 1.35L5.41 20z\"/>\n",
              "  </svg>\n",
              "      </button>\n",
              "      \n",
              "  <style>\n",
              "    .colab-df-container {\n",
              "      display:flex;\n",
              "      flex-wrap:wrap;\n",
              "      gap: 12px;\n",
              "    }\n",
              "\n",
              "    .colab-df-convert {\n",
              "      background-color: #E8F0FE;\n",
              "      border: none;\n",
              "      border-radius: 50%;\n",
              "      cursor: pointer;\n",
              "      display: none;\n",
              "      fill: #1967D2;\n",
              "      height: 32px;\n",
              "      padding: 0 0 0 0;\n",
              "      width: 32px;\n",
              "    }\n",
              "\n",
              "    .colab-df-convert:hover {\n",
              "      background-color: #E2EBFA;\n",
              "      box-shadow: 0px 1px 2px rgba(60, 64, 67, 0.3), 0px 1px 3px 1px rgba(60, 64, 67, 0.15);\n",
              "      fill: #174EA6;\n",
              "    }\n",
              "\n",
              "    [theme=dark] .colab-df-convert {\n",
              "      background-color: #3B4455;\n",
              "      fill: #D2E3FC;\n",
              "    }\n",
              "\n",
              "    [theme=dark] .colab-df-convert:hover {\n",
              "      background-color: #434B5C;\n",
              "      box-shadow: 0px 1px 3px 1px rgba(0, 0, 0, 0.15);\n",
              "      filter: drop-shadow(0px 1px 2px rgba(0, 0, 0, 0.3));\n",
              "      fill: #FFFFFF;\n",
              "    }\n",
              "  </style>\n",
              "\n",
              "      <script>\n",
              "        const buttonEl =\n",
              "          document.querySelector('#df-f2bbf2e0-bee6-4be8-ba89-a053dbc6da6e button.colab-df-convert');\n",
              "        buttonEl.style.display =\n",
              "          google.colab.kernel.accessAllowed ? 'block' : 'none';\n",
              "\n",
              "        async function convertToInteractive(key) {\n",
              "          const element = document.querySelector('#df-f2bbf2e0-bee6-4be8-ba89-a053dbc6da6e');\n",
              "          const dataTable =\n",
              "            await google.colab.kernel.invokeFunction('convertToInteractive',\n",
              "                                                     [key], {});\n",
              "          if (!dataTable) return;\n",
              "\n",
              "          const docLinkHtml = 'Like what you see? Visit the ' +\n",
              "            '<a target=\"_blank\" href=https://colab.research.google.com/notebooks/data_table.ipynb>data table notebook</a>'\n",
              "            + ' to learn more about interactive tables.';\n",
              "          element.innerHTML = '';\n",
              "          dataTable['output_type'] = 'display_data';\n",
              "          await google.colab.output.renderOutput(dataTable, element);\n",
              "          const docLink = document.createElement('div');\n",
              "          docLink.innerHTML = docLinkHtml;\n",
              "          element.appendChild(docLink);\n",
              "        }\n",
              "      </script>\n",
              "    </div>\n",
              "  </div>\n",
              "  "
            ]
          },
          "metadata": {},
          "execution_count": 3
        }
      ]
    },
    {
      "cell_type": "code",
      "source": [
        "df['values']=1"
      ],
      "metadata": {
        "id": "VFrqfgAmnjWg"
      },
      "execution_count": null,
      "outputs": []
    },
    {
      "cell_type": "markdown",
      "source": [
        "- 가장 많이 팔린 상품 순으로 정렬"
      ],
      "metadata": {
        "id": "U0_-Rrn1Vvqz"
      }
    },
    {
      "cell_type": "code",
      "source": [
        "p = df.groupby('p_idx').sum()['values'].to_frame().reset_index()"
      ],
      "metadata": {
        "id": "Q_yrR8lmnTdn"
      },
      "execution_count": null,
      "outputs": []
    },
    {
      "cell_type": "markdown",
      "source": [
        "- 데이터 분리"
      ],
      "metadata": {
        "id": "oqzUbs_aWElr"
      }
    },
    {
      "cell_type": "code",
      "source": [
        "test = df.groupby('c_idx').sample(frac=0.2,random_state=42)\n",
        "train = df.drop(test.index)"
      ],
      "metadata": {
        "id": "3bcH0Ib5n3tO"
      },
      "execution_count": null,
      "outputs": []
    },
    {
      "cell_type": "code",
      "source": [
        "df_group=df.groupby(['c_idx'], as_index = False).count()\n",
        "\n",
        "upper = df[df['c_idx'].isin(df_group.query(\"values >= 20\").c_idx)]\n",
        "\n",
        "\n",
        "test = upper.groupby('c_idx').sample(frac=0.2,random_state=42)\n",
        "train = upper.drop(test.index)\n",
        "\n",
        "user_20 = sparse.csr_matrix((train['values'],(train['c_idx'], train['p_idx'])))\n",
        "test_user_20 = sparse.csr_matrix((test['values'],(test['c_idx'], test['p_idx'])))"
      ],
      "metadata": {
        "id": "VC6OhCIHzBI_"
      },
      "execution_count": null,
      "outputs": []
    },
    {
      "cell_type": "code",
      "source": [
        "# 검증셋 만들기\n",
        "test_df = test.groupby('c_idx')['p_idx'].unique().to_frame().reset_index()"
      ],
      "metadata": {
        "id": "agGBp2dIr0Nh"
      },
      "execution_count": null,
      "outputs": []
    },
    {
      "cell_type": "markdown",
      "source": [
        "# 성능 평가"
      ],
      "metadata": {
        "id": "3y87fIYFVDR7"
      }
    },
    {
      "cell_type": "markdown",
      "source": [
        "## precision@k"
      ],
      "metadata": {
        "id": "aHAVo90nVFZZ"
      }
    },
    {
      "cell_type": "code",
      "source": [
        "def precision_at_k(user_id,data,k=25):\n",
        "  \n",
        "  count=0\n",
        "  user_buy = data[data['c_idx']==user_id].p_idx\n",
        "  top_k = p.sort_values('values').tail(25).p_idx\n",
        "  for i in user_buy:\n",
        "    for j in top_k:\n",
        "      if i==j:\n",
        "        count+=1\n",
        "  \n",
        "  precision = count/len(top_k)\n",
        "  return precision"
      ],
      "metadata": {
        "id": "mtYzPgWTo7Eq"
      },
      "execution_count": null,
      "outputs": []
    },
    {
      "cell_type": "code",
      "source": [
        "def mean_precision_k(k,data):\n",
        "  precision=0\n",
        "  total =0\n",
        "  for i in range(1,k+1):\n",
        "    #train,test셋으로 분리했기 때문에 없는 user_id는 넘김\n",
        "    if i in upper_20:\n",
        "      total+=1\n",
        "      precision+=precision_at_k(i,data,25)\n",
        "    else:\n",
        "      pass\n",
        "  mean_precision = precision/total\n",
        "  return mean_precision"
      ],
      "metadata": {
        "id": "aDXM0QRDpLju"
      },
      "execution_count": null,
      "outputs": []
    },
    {
      "cell_type": "code",
      "source": [
        "mean_precision_k(49000,train)"
      ],
      "metadata": {
        "colab": {
          "base_uri": "https://localhost:8080/"
        },
        "id": "oZkOBgNfror3",
        "outputId": "55695fc7-2ca6-4c89-a101-d52b08e258d8"
      },
      "execution_count": null,
      "outputs": [
        {
          "output_type": "execute_result",
          "data": {
            "text/plain": [
              "0.05392203953445"
            ]
          },
          "metadata": {},
          "execution_count": 12
        }
      ]
    },
    {
      "cell_type": "code",
      "source": [
        "mean_precision_k(50000,test)"
      ],
      "metadata": {
        "colab": {
          "base_uri": "https://localhost:8080/"
        },
        "id": "W2tX2E3e0LIK",
        "outputId": "fb28cbc8-c974-45e9-b389-f5f14f5d43bf"
      },
      "execution_count": null,
      "outputs": [
        {
          "output_type": "execute_result",
          "data": {
            "text/plain": [
              "0.01389942515729004"
            ]
          },
          "metadata": {},
          "execution_count": 15
        }
      ]
    },
    {
      "cell_type": "markdown",
      "source": [
        "## hit rate@k"
      ],
      "metadata": {
        "id": "hZk9gJrSuAS1"
      }
    },
    {
      "cell_type": "code",
      "source": [
        "def hit_rate(k):\n",
        "  total= 0\n",
        "  user = 0\n",
        "  for c_idx in range(k):\n",
        "    count=0 # for문 돌 때마다 리셋\n",
        "    if c_idx in upper_20:\n",
        "      top_k = p.sort_values('values').tail(25).p_idx\n",
        "      buy_test = test_df[test_df['c_idx']==c_idx].p_idx.values[0]\n",
        "      user+=1\n",
        "      for i in buy_test:\n",
        "        for j in top_k:\n",
        "          if i==j:\n",
        "            count+=1\n",
        "    if count >=1: #count가 1 이상이면 hit한 것이니까 전체에 1 추가\n",
        "      total+=1\n",
        "    \n",
        "  hit_rate = total/user\n",
        "\n",
        "  return hit_rate"
      ],
      "metadata": {
        "id": "RfbUSmv2OE8b"
      },
      "execution_count": null,
      "outputs": []
    },
    {
      "cell_type": "code",
      "source": [
        "hit_rate(50000)"
      ],
      "metadata": {
        "colab": {
          "base_uri": "https://localhost:8080/"
        },
        "id": "3Pu5IfLQseZJ",
        "outputId": "bac1830a-de19-4a47-b9f2-3fd459f321fa"
      },
      "execution_count": null,
      "outputs": [
        {
          "output_type": "execute_result",
          "data": {
            "text/plain": [
              "0.2644609396216167"
            ]
          },
          "metadata": {},
          "execution_count": 16
        }
      ]
    }
  ]
}